{
 "cells": [
  {
   "cell_type": "markdown",
   "metadata": {},
   "source": [
    "1. Write a program which will find all such numbers which are divisible by 7 but are not a\n",
    "   multiple of 5, between 2000 and 3200 (both included). The numbers obtained should be printed\n",
    "   in a comma-separated sequence on a single line."
   ]
  },
  {
   "cell_type": "code",
   "execution_count": 1,
   "metadata": {},
   "outputs": [
    {
     "name": "stdout",
     "output_type": "stream",
     "text": [
      "2009,2023,2037,2051,2065,2079,2093,2107,2121,2135,2149,2163,2177,2191,2205,2219,2233,2247,2261,2275,2289,2303,2317,2331,2345,2359,2373,2387,2401,2415,2429,2443,2457,2471,2485,2499,2513,2527,2541,2555,2569,2583,2597,2611,2625,2639,2653,2667,2681,2695,2709,2723,2737,2751,2765,2779,2793,2807,2821,2835,2849,2863,2877,2891,2905,2919,2933,2947,2961,2975,2989,3003,3017,3031,3045,3059,3073,3087,3101,3115,3129,3143,3157,3171,3185,3199\n"
     ]
    }
   ],
   "source": [
    "lst =[]\n",
    "for i in range(2000,3201):\n",
    "    if (i%2 !=0):\n",
    "        if (i%7 ==0):\n",
    "            lst.append(str(i))\n",
    "\n",
    "print(\",\".join(lst))\n",
    "\n",
    "#Please let me know how to print these value in one line without wrapping of the lines?"
   ]
  },
  {
   "cell_type": "markdown",
   "metadata": {},
   "source": [
    "2. Write a Python program to accept the user's first and last name and then getting them\n",
    "   printed in the the reverse order with a space between first name and last name."
   ]
  },
  {
   "cell_type": "code",
   "execution_count": 2,
   "metadata": {},
   "outputs": [
    {
     "name": "stdout",
     "output_type": "stream",
     "text": [
      "Enter your First Name: ashish\n",
      "Enter your Second Name: sharma\n",
      "hsihsa amrahs\n"
     ]
    }
   ],
   "source": [
    "str1 = input(\"Enter your First Name: \")\n",
    "str2 = input(\"Enter your Second Name: \")\n",
    "print (''.join(reversed(str1)),''.join(reversed(str2)))"
   ]
  },
  {
   "cell_type": "markdown",
   "metadata": {},
   "source": [
    "3. Write a Python program to find the volume of a sphere with diameter 12 cm.\n",
    "   Formula: V=4/3 * π * r^3"
   ]
  },
  {
   "cell_type": "code",
   "execution_count": 3,
   "metadata": {},
   "outputs": [],
   "source": [
    "def sphere_volume(dia):\n",
    "    r= dia/2\n",
    "    V = (4/3)*3.142*r**3\n",
    "    print (\"Volume of the sphere(in cm^3) is : \",V)"
   ]
  },
  {
   "cell_type": "code",
   "execution_count": 4,
   "metadata": {},
   "outputs": [
    {
     "name": "stdout",
     "output_type": "stream",
     "text": [
      "Volume of the sphere(in cm^3) is :  904.896\n"
     ]
    }
   ],
   "source": [
    "sphere_volume(12)"
   ]
  },
  {
   "cell_type": "code",
   "execution_count": null,
   "metadata": {},
   "outputs": [],
   "source": []
  }
 ],
 "metadata": {
  "kernelspec": {
   "display_name": "Python 3",
   "language": "python",
   "name": "python3"
  },
  "language_info": {
   "codemirror_mode": {
    "name": "ipython",
    "version": 3
   },
   "file_extension": ".py",
   "mimetype": "text/x-python",
   "name": "python",
   "nbconvert_exporter": "python",
   "pygments_lexer": "ipython3",
   "version": "3.7.6"
  }
 },
 "nbformat": 4,
 "nbformat_minor": 4
}
